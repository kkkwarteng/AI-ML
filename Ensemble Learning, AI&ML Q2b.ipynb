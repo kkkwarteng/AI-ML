{
 "cells": [
  {
   "cell_type": "markdown",
   "id": "b0e450eb",
   "metadata": {},
   "source": [
    "# Importing Important Libraries"
   ]
  },
  {
   "cell_type": "code",
   "execution_count": 1,
   "id": "096f75db",
   "metadata": {},
   "outputs": [],
   "source": [
    "from sklearn.datasets import fetch_openml\n",
    "import matplotlib\n",
    "import matplotlib.pyplot as plt\n",
    "import numpy as np\n",
    "from sklearn.tree import DecisionTreeClassifier\n",
    "from sklearn.metrics import accuracy_score\n",
    "import seaborn as sns"
   ]
  },
  {
   "cell_type": "code",
   "execution_count": 2,
   "id": "a9d8f5ab",
   "metadata": {},
   "outputs": [],
   "source": [
    "mnist = fetch_openml('mnist_784')\n",
    "x, y = mnist['data'], mnist['target']"
   ]
  },
  {
   "cell_type": "code",
   "execution_count": 3,
   "id": "b28cac6d",
   "metadata": {},
   "outputs": [],
   "source": [
    "x = np.array(x)\n",
    "y = np.array(y)"
   ]
  },
  {
   "cell_type": "code",
   "execution_count": 4,
   "id": "b88f79f6",
   "metadata": {},
   "outputs": [],
   "source": [
    "y = y.astype('int')"
   ]
  },
  {
   "cell_type": "code",
   "execution_count": 5,
   "id": "64dc51ac",
   "metadata": {},
   "outputs": [
    {
     "data": {
      "text/plain": [
       "(70000, 784)"
      ]
     },
     "execution_count": 5,
     "metadata": {},
     "output_type": "execute_result"
    }
   ],
   "source": [
    "x.shape"
   ]
  },
  {
   "cell_type": "code",
   "execution_count": 6,
   "id": "09817643",
   "metadata": {},
   "outputs": [
    {
     "data": {
      "text/plain": [
       "(70000,)"
      ]
     },
     "execution_count": 6,
     "metadata": {},
     "output_type": "execute_result"
    }
   ],
   "source": [
    "y.shape"
   ]
  },
  {
   "cell_type": "code",
   "execution_count": 7,
   "id": "0633822d",
   "metadata": {},
   "outputs": [],
   "source": [
    "x_train, x_test = x[:60000], x[60000:70000]\n",
    "y_train, y_test = y[:60000], y[60000:70000]"
   ]
  },
  {
   "cell_type": "code",
   "execution_count": 8,
   "id": "2384609a",
   "metadata": {},
   "outputs": [
    {
     "data": {
      "text/plain": [
       "(60000, 784)"
      ]
     },
     "execution_count": 8,
     "metadata": {},
     "output_type": "execute_result"
    }
   ],
   "source": [
    "x_train.shape"
   ]
  },
  {
   "cell_type": "code",
   "execution_count": 9,
   "id": "c43d297e",
   "metadata": {},
   "outputs": [
    {
     "data": {
      "text/plain": [
       "(60000,)"
      ]
     },
     "execution_count": 9,
     "metadata": {},
     "output_type": "execute_result"
    }
   ],
   "source": [
    "y_train.shape"
   ]
  },
  {
   "cell_type": "code",
   "execution_count": 10,
   "id": "7b7bb449",
   "metadata": {},
   "outputs": [
    {
     "data": {
      "text/plain": [
       "(10000,)"
      ]
     },
     "execution_count": 10,
     "metadata": {},
     "output_type": "execute_result"
    }
   ],
   "source": [
    "y_test.shape"
   ]
  },
  {
   "cell_type": "markdown",
   "id": "33989bad",
   "metadata": {},
   "source": [
    "# Data Visualisation"
   ]
  },
  {
   "cell_type": "code",
   "execution_count": 11,
   "id": "fac425e6",
   "metadata": {},
   "outputs": [
    {
     "data": {
      "text/plain": [
       "<matplotlib.image.AxesImage at 0x7fc0a93b4760>"
      ]
     },
     "execution_count": 11,
     "metadata": {},
     "output_type": "execute_result"
    },
    {
     "data": {
      "image/png": "[encoded data removed]",
      "text/plain": [
       "<Figure size 432x288 with 1 Axes>"
      ]
     },
     "metadata": {
      "needs_background": "light"
     },
     "output_type": "display_data"
    }
   ],
   "source": [
    "some_image = x[520]\n",
    "some_image = some_image.reshape(28,28)\n",
    "plt.imshow(some_image, cmap=matplotlib.cm.binary,interpolation='nearest')"
   ]
  },
  {
   "cell_type": "code",
   "execution_count": 12,
   "id": "3dc460c0",
   "metadata": {},
   "outputs": [
    {
     "data": {
      "text/plain": [
       "<matplotlib.image.AxesImage at 0x7fc0b8a94d90>"
      ]
     },
     "execution_count": 12,
     "metadata": {},
     "output_type": "execute_result"
    },
    {
     "data": {
      "image/png": "[encoded data removed]",
      "text/plain": [
       "<Figure size 432x288 with 1 Axes>"
      ]
     },
     "metadata": {
      "needs_background": "light"
     },
     "output_type": "display_data"
    }
   ],
   "source": [
    "some_image = x[120]\n",
    "some_image = some_image.reshape(28,28)\n",
    "plt.imshow(some_image, cmap=matplotlib.cm.binary,interpolation='nearest')"
   ]
  },
  {
   "cell_type": "markdown",
   "id": "e74cdbb4",
   "metadata": {},
   "source": [
    "# Bagging algorithm"
   ]
  },
  {
   "cell_type": "code",
   "execution_count": 13,
   "id": "8dd9ffbf",
   "metadata": {},
   "outputs": [],
   "source": [
    "def bagging():\n",
    "  \n",
    "  indexes = np.random.randint(0, len(x_train), len(x_train))\n",
    "  bag = x_train[indexes]\n",
    "  target = y_train[indexes]\n",
    "  return (bag,target)"
   ]
  },
  {
   "cell_type": "markdown",
   "id": "4e2b700e",
   "metadata": {},
   "source": [
    "# Bag 1"
   ]
  },
  {
   "cell_type": "code",
   "execution_count": 14,
   "id": "e71ec042",
   "metadata": {},
   "outputs": [
    {
     "name": "stdout",
     "output_type": "stream",
     "text": [
      "(60000, 784) \n",
      " (60000,)\n"
     ]
    }
   ],
   "source": [
    "bag1 = bagging()\n",
    "print(bag1[0].shape,'\\n', bag1[1].shape)"
   ]
  },
  {
   "cell_type": "code",
   "execution_count": 15,
   "id": "634d45d1",
   "metadata": {},
   "outputs": [
    {
     "data": {
      "text/plain": [
       "DecisionTreeClassifier()"
      ]
     },
     "execution_count": 15,
     "metadata": {},
     "output_type": "execute_result"
    }
   ],
   "source": [
    "dtc1 = DecisionTreeClassifier()        # training bag 1\n",
    "dtc1.fit(bag1[0], bag1[1])"
   ]
  },
  {
   "cell_type": "markdown",
   "id": "4c444ffb",
   "metadata": {},
   "source": [
    "# Bag 2"
   ]
  },
  {
   "cell_type": "code",
   "execution_count": 16,
   "id": "df2fef39",
   "metadata": {},
   "outputs": [
    {
     "name": "stdout",
     "output_type": "stream",
     "text": [
      "(60000, 784) \n",
      " (60000,)\n"
     ]
    }
   ],
   "source": [
    "bag2 = bagging()\n",
    "print(bag2[0].shape,'\\n', bag2[1].shape)"
   ]
  },
  {
   "cell_type": "code",
   "execution_count": 17,
   "id": "386e9094",
   "metadata": {},
   "outputs": [
    {
     "data": {
      "text/plain": [
       "DecisionTreeClassifier()"
      ]
     },
     "execution_count": 17,
     "metadata": {},
     "output_type": "execute_result"
    }
   ],
   "source": [
    "dtc2 = DecisionTreeClassifier()        # training bag 2\n",
    "dtc2.fit(bag2[0], bag2[1])"
   ]
  },
  {
   "cell_type": "markdown",
   "id": "6932915a",
   "metadata": {},
   "source": [
    "# Bag 3"
   ]
  },
  {
   "cell_type": "code",
   "execution_count": 18,
   "id": "23a460d9",
   "metadata": {},
   "outputs": [
    {
     "name": "stdout",
     "output_type": "stream",
     "text": [
      "(60000, 784) \n",
      " (60000,)\n"
     ]
    }
   ],
   "source": [
    "bag3 = bagging()\n",
    "print(bag3[0].shape,'\\n', bag3[1].shape)"
   ]
  },
  {
   "cell_type": "code",
   "execution_count": 19,
   "id": "9c967ef6",
   "metadata": {},
   "outputs": [
    {
     "data": {
      "text/plain": [
       "DecisionTreeClassifier()"
      ]
     },
     "execution_count": 19,
     "metadata": {},
     "output_type": "execute_result"
    }
   ],
   "source": [
    "dtc3 = DecisionTreeClassifier()        # training bag 3\n",
    "dtc3.fit(bag3[0], bag3[1])"
   ]
  },
  {
   "cell_type": "markdown",
   "id": "eb2a8f5f",
   "metadata": {},
   "source": [
    "# Combining the result of all 3 classifiers"
   ]
  },
  {
   "cell_type": "code",
   "execution_count": 20,
   "id": "48326366",
   "metadata": {},
   "outputs": [],
   "source": [
    "pred_1 = dtc1.predict(x_test)\n",
    "pred_2 = dtc2.predict(x_test)\n",
    "pred_3 = dtc3.predict(x_test)"
   ]
  },
  {
   "cell_type": "markdown",
   "id": "ae346679",
   "metadata": {},
   "source": [
    "# Majority voting"
   ]
  },
  {
   "cell_type": "code",
   "execution_count": 21,
   "id": "c80782ed",
   "metadata": {},
   "outputs": [],
   "source": [
    "y_pred = []\n",
    "\n",
    "for i in range(len(x_test)):\n",
    "  \n",
    "  node = [pred_1[i], pred_2[i], pred_3[i]]\n",
    "  majority_vote = max( node , key = node.count)\n",
    "  y_pred.append(majority_vote)\n",
    "\n",
    "y_pred = np.array(y_pred)"
   ]
  },
  {
   "cell_type": "code",
   "execution_count": 22,
   "id": "1e4e6ded",
   "metadata": {},
   "outputs": [
    {
     "data": {
      "text/plain": [
       "(10000,)"
      ]
     },
     "execution_count": 22,
     "metadata": {},
     "output_type": "execute_result"
    }
   ],
   "source": [
    "y_pred.shape"
   ]
  },
  {
   "cell_type": "code",
   "execution_count": 23,
   "id": "883f5559",
   "metadata": {},
   "outputs": [
    {
     "data": {
      "text/plain": [
       "array([5, 0, 4, 1, 9, 2, 1, 3, 1, 4])"
      ]
     },
     "execution_count": 23,
     "metadata": {},
     "output_type": "execute_result"
    }
   ],
   "source": [
    "y[:10]"
   ]
  },
  {
   "cell_type": "code",
   "execution_count": 24,
   "id": "fb87ea0a",
   "metadata": {},
   "outputs": [
    {
     "name": "stdout",
     "output_type": "stream",
     "text": [
      "0.8966\n"
     ]
    }
   ],
   "source": [
    "print(accuracy_score( y_test, y_pred))    # accuracy"
   ]
  },
  {
   "cell_type": "markdown",
   "id": "75f45b97",
   "metadata": {},
   "source": [
    "# Plotting the confusion matrix ,\n",
    "confusion matrix gives the classwise accuracy"
   ]
  },
  {
   "cell_type": "code",
   "execution_count": 25,
   "id": "83a9d3dc",
   "metadata": {},
   "outputs": [],
   "source": [
    "def plot_confusion_matrix(cm, classes=None, title='Confusion matrix'):\n",
    "    \"\"\"Plots a confusion matrix.\"\"\"\n",
    "    if classes is not None:\n",
    "        sns.heatmap(cm, cmap=\"YlGnBu\", xticklabels=classes, yticklabels=classes, vmin=0., vmax=1., annot=True, annot_kws={'size': 8})\n",
    "    else:\n",
    "        sns.heatmap(cm, vmin=0., vmax=1.)\n",
    "    plt.title(title)\n",
    "    plt.ylabel('True label')\n",
    "    plt.xlabel('Predicted label')"
   ]
  },
  {
   "cell_type": "code",
   "execution_count": 26,
   "id": "086cfd70",
   "metadata": {},
   "outputs": [
    {
     "data": {
      "image/png": "[encoded data removed]",
      "text/plain": [
       "<Figure size 432x288 with 2 Axes>"
      ]
     },
     "metadata": {
      "needs_background": "light"
     },
     "output_type": "display_data"
    }
   ],
   "source": [
    "from sklearn.metrics import r2_score, explained_variance_score, confusion_matrix, accuracy_score, classification_report\n",
    "cm3 = confusion_matrix(y_test, y_pred)\n",
    "cm_norm3 = cm3 / cm3.sum(axis=1).reshape(-1,1)\n",
    "\n",
    "plot_confusion_matrix(cm_norm3, classes = [0,1,2,3,4,5,6,7,8,9], title='Confusion matrix')"
   ]
  },
  {
   "cell_type": "markdown",
   "id": "b38abc58",
   "metadata": {},
   "source": [
    "### End of Code "
   ]
  },
  {
   "cell_type": "code",
   "execution_count": null,
   "id": "2aaeb45d",
   "metadata": {},
   "outputs": [],
   "source": []
  }
 ],
 "metadata": {
  "kernelspec": {
   "display_name": "Python 3 (ipykernel)",
   "language": "python",
   "name": "python3"
  },
  "language_info": {
   "codemirror_mode": {
    "name": "ipython",
    "version": 3
   },
   "file_extension": ".py",
   "mimetype": "text/x-python",
   "name": "python",
   "nbconvert_exporter": "python",
   "pygments_lexer": "ipython3",
   "version": "3.9.7"
  }
 },
 "nbformat": 4,
 "nbformat_minor": 5
}
