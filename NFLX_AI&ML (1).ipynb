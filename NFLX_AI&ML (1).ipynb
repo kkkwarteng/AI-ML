{
  "nbformat": 4,
  "nbformat_minor": 0,
  "metadata": {
    "colab": {
      "provenance": []
    },
    "kernelspec": {
      "name": "python3",
      "display_name": "Python 3"
    },
    "language_info": {
      "name": "python"
    }
  },
  "cells": [
    {
      "cell_type": "markdown",
      "source": [
        "**IMPORTING KEY LIBRARIES**"
      ],
      "metadata": {
        "id": "HkqzTjPi3zzb"
      }
    },
    {
      "cell_type": "code",
      "execution_count": 1,
      "metadata": {
        "id": "09aZ74C6TDCJ"
      },
      "outputs": [],
      "source": [
        "import numpy\n",
        "import numpy as np\n",
        "import matplotlib.pyplot as plt\n",
        "import pandas as pd\n",
        "from pandas import read_csv\n",
        "import math\n",
        "from keras.models import Sequential\n",
        "from keras.layers import Dense\n",
        "from keras.layers import LSTM\n",
        "from sklearn.preprocessing import MinMaxScaler\n",
        "from sklearn.metrics import mean_squared_error"
      ]
    },
    {
      "cell_type": "markdown",
      "source": [
        "**READING THE HEAD OF THE DATASET**"
      ],
      "metadata": {
        "id": "hY-t8tiM4EXq"
      }
    },
    {
      "cell_type": "code",
      "source": [
        "netflix = pd.read_csv('NFLX.csv')\n",
        "print(netflix.head())"
      ],
      "metadata": {
        "colab": {
          "base_uri": "https://localhost:8080/"
        },
        "id": "wZ3XeaoNTUhe",
        "outputId": "2f96e25a-521e-46e5-deb9-b3725b5e15cd"
      },
      "execution_count": 2,
      "outputs": [
        {
          "output_type": "stream",
          "name": "stdout",
          "text": [
            "         Date        Open        High         Low       Close   Adj Close  \\\n",
            "0  2018-01-08  210.020004  212.500000  208.440002  212.050003  212.050003   \n",
            "1  2018-01-09  212.110001  212.979996  208.589996  209.309998  209.309998   \n",
            "2  2018-01-10  207.570007  213.639999  206.910004  212.520004  212.520004   \n",
            "3  2018-01-11  214.289993  217.750000  213.350006  217.240005  217.240005   \n",
            "4  2018-01-12  217.179993  222.550003  216.000000  221.229996  221.229996   \n",
            "\n",
            "    Volume  \n",
            "0  5580200  \n",
            "1  6125900  \n",
            "2  5951500  \n",
            "3  7659500  \n",
            "4  8199400  \n"
          ]
        }
      ]
    },
    {
      "cell_type": "markdown",
      "source": [
        "**ADJUSTED CLOSING STOCK PRICE**"
      ],
      "metadata": {
        "id": "WL9hWjiz4t_Y"
      }
    },
    {
      "cell_type": "code",
      "source": [
        "netflix=netflix[['Adj Close']]\n",
        "print(netflix.head())"
      ],
      "metadata": {
        "colab": {
          "base_uri": "https://localhost:8080/"
        },
        "id": "xuCuBK4JTtRL",
        "outputId": "79d58d7c-cb99-4877-ec98-d46d3be63997"
      },
      "execution_count": 3,
      "outputs": [
        {
          "output_type": "stream",
          "name": "stdout",
          "text": [
            "    Adj Close\n",
            "0  212.050003\n",
            "1  209.309998\n",
            "2  212.520004\n",
            "3  217.240005\n",
            "4  221.229996\n"
          ]
        }
      ]
    },
    {
      "cell_type": "markdown",
      "source": [
        "**LINE GRAPH OF STOCK PRICES FOR 5-YEAR PERIOD**"
      ],
      "metadata": {
        "id": "hAIPHNsy43oz"
      }
    },
    {
      "cell_type": "code",
      "source": [
        "plt.plot(netflix) \n",
        "plt.show()"
      ],
      "metadata": {
        "colab": {
          "base_uri": "https://localhost:8080/",
          "height": 265
        },
        "id": "9zGsdtgLT6I6",
        "outputId": "0f778d25-450b-4412-8444-2357393b9c54"
      },
      "execution_count": 4,
      "outputs": [
        {
          "output_type": "display_data",
          "data": {
            "text/plain": [
              "<Figure size 432x288 with 1 Axes>"
            ],
            "image/png": "[encoded data removed]"
          },
          "metadata": {
            "needs_background": "light"
          }
        }
      ]
    },
    {
      "cell_type": "markdown",
      "source": [
        "**SETTING RANDOM SEED FOR DEBUGGING AND REPRODUCIBILITY**"
      ],
      "metadata": {
        "id": "5o187dyM5hvs"
      }
    },
    {
      "cell_type": "code",
      "source": [
        "# fix random seed for reproducibility\n",
        "np.random.seed(7)\n",
        "netflix = netflix.values\n",
        "netflix = netflix.astype('float32')"
      ],
      "metadata": {
        "id": "liU3QEIcUj_Q"
      },
      "execution_count": 5,
      "outputs": []
    },
    {
      "cell_type": "markdown",
      "source": [
        "**NORMALIZING THE DATASET**"
      ],
      "metadata": {
        "id": "ZIP6IIdB58l5"
      }
    },
    {
      "cell_type": "code",
      "source": [
        "# normalize the dataset\n",
        "scaler = MinMaxScaler(feature_range=(0, 1))\n",
        "netflix = scaler.fit_transform(netflix)"
      ],
      "metadata": {
        "id": "NVRVka2vUljH"
      },
      "execution_count": 6,
      "outputs": []
    },
    {
      "cell_type": "markdown",
      "source": [
        "**SPLITTING THE DATASET INTO TRAINING SET AND TEST SET**"
      ],
      "metadata": {
        "id": "P972ZtbN6EGh"
      }
    },
    {
      "cell_type": "code",
      "source": [
        "# split into train and test sets\n",
        "train_size = int(len(netflix) * 0.70)\n",
        "test_size = len(netflix) - train_size\n",
        "train, test = netflix[0:train_size,:], \\\n",
        "              netflix[train_size:len(netflix),:]\n",
        "print(len(train), len(test))"
      ],
      "metadata": {
        "colab": {
          "base_uri": "https://localhost:8080/"
        },
        "id": "pldJvveXUoVb",
        "outputId": "83514fa3-57a3-4f6d-b91d-b58d8c13ac2d"
      },
      "execution_count": 7,
      "outputs": [
        {
          "output_type": "stream",
          "name": "stdout",
          "text": [
            "881 378\n"
          ]
        }
      ]
    },
    {
      "cell_type": "markdown",
      "source": [
        "**CONVERTING THE DATASET INTO TIME SERIES PREDICTION MODEL**"
      ],
      "metadata": {
        "id": "li-UbtwI6l7f"
      }
    },
    {
      "cell_type": "code",
      "source": [
        "#create look back function\n",
        "def create_netflix(netflix, look_back=1):\n",
        "    # convert an array of values into a dataset matrix\n",
        "    dataX, dataY = [], []\n",
        "    for i in range(len(netflix)-look_back-1):\n",
        "        a = netflix[i:(i+look_back), 0]\n",
        "        dataX.append(a)\n",
        "        dataY.append(netflix[i + look_back, 0])\n",
        "    return numpy.array(dataX), numpy.array(dataY)\n",
        "# fix random seed for reproducibility\n",
        "numpy.random.seed(7)"
      ],
      "metadata": {
        "id": "O6elP7exUr5V"
      },
      "execution_count": 8,
      "outputs": []
    },
    {
      "cell_type": "markdown",
      "source": [
        "**RESHAPING THE TEST AND TRAINING DATA**"
      ],
      "metadata": {
        "id": "NXUv_B5E7DAK"
      }
    },
    {
      "cell_type": "code",
      "source": [
        "# reshape into X=t and Y=t+1\n",
        "look_back = 1\n",
        "trainX, trainY = create_netflix(train, look_back)\n",
        "testX, testY = create_netflix(test, look_back)"
      ],
      "metadata": {
        "id": "Pg0t1DIqUvzv"
      },
      "execution_count": 9,
      "outputs": []
    },
    {
      "cell_type": "code",
      "source": [
        "# reshape input to be [samples, time steps, features]\n",
        "trainX = numpy.reshape(trainX, (trainX.shape[0], 1,\n",
        "                                trainX.shape[1]))\n",
        "testX = numpy.reshape(testX, (testX.shape[0], 1, testX.shape[1]))"
      ],
      "metadata": {
        "id": "sbdXgnT8UyyJ"
      },
      "execution_count": 10,
      "outputs": []
    },
    {
      "cell_type": "markdown",
      "source": [
        "**CREATING LSTM NETWORK USING THE TEST AND TRAINING DATA**"
      ],
      "metadata": {
        "id": "cOaswIx97JcZ"
      }
    },
    {
      "cell_type": "code",
      "source": [
        "# create and fit the LSTM network\n",
        "model = Sequential()\n",
        "model.add(LSTM(5, input_shape=(1, look_back)))\n",
        "model.add(Dense(1))\n",
        "model.compile(loss='mean_squared_error', optimizer='adam')\n",
        "model.fit(trainX, trainY, epochs=100, batch_size=1, verbose=2)"
      ],
      "metadata": {
        "colab": {
          "base_uri": "https://localhost:8080/"
        },
        "id": "nc3UV_ruU2Gp",
        "outputId": "06ff8a1f-d6b3-4c62-d1b7-44cdfff82613"
      },
      "execution_count": 11,
      "outputs": [
        {
          "output_type": "stream",
          "name": "stdout",
          "text": [
            "Epoch 1/100\n",
            "879/879 - 3s - loss: 0.0254 - 3s/epoch - 4ms/step\n",
            "Epoch 2/100\n",
            "879/879 - 2s - loss: 0.0035 - 2s/epoch - 2ms/step\n",
            "Epoch 3/100\n",
            "879/879 - 2s - loss: 5.2823e-04 - 2s/epoch - 2ms/step\n",
            "Epoch 4/100\n",
            "879/879 - 2s - loss: 3.9771e-04 - 2s/epoch - 2ms/step\n",
            "Epoch 5/100\n",
            "879/879 - 2s - loss: 4.1125e-04 - 2s/epoch - 2ms/step\n",
            "Epoch 6/100\n",
            "879/879 - 1s - loss: 4.0699e-04 - 1s/epoch - 2ms/step\n",
            "Epoch 7/100\n",
            "879/879 - 2s - loss: 4.1814e-04 - 2s/epoch - 2ms/step\n",
            "Epoch 8/100\n",
            "879/879 - 1s - loss: 4.1667e-04 - 1s/epoch - 2ms/step\n",
            "Epoch 9/100\n",
            "879/879 - 2s - loss: 4.2071e-04 - 2s/epoch - 2ms/step\n",
            "Epoch 10/100\n",
            "879/879 - 1s - loss: 4.1540e-04 - 1s/epoch - 2ms/step\n",
            "Epoch 11/100\n",
            "879/879 - 2s - loss: 4.1263e-04 - 2s/epoch - 2ms/step\n",
            "Epoch 12/100\n",
            "879/879 - 2s - loss: 4.2434e-04 - 2s/epoch - 2ms/step\n",
            "Epoch 13/100\n",
            "879/879 - 2s - loss: 4.1765e-04 - 2s/epoch - 2ms/step\n",
            "Epoch 14/100\n",
            "879/879 - 2s - loss: 4.0980e-04 - 2s/epoch - 2ms/step\n",
            "Epoch 15/100\n",
            "879/879 - 2s - loss: 4.2933e-04 - 2s/epoch - 2ms/step\n",
            "Epoch 16/100\n",
            "879/879 - 2s - loss: 4.2460e-04 - 2s/epoch - 2ms/step\n",
            "Epoch 17/100\n",
            "879/879 - 1s - loss: 4.3016e-04 - 1s/epoch - 2ms/step\n",
            "Epoch 18/100\n",
            "879/879 - 2s - loss: 4.1162e-04 - 2s/epoch - 2ms/step\n",
            "Epoch 19/100\n",
            "879/879 - 1s - loss: 4.1897e-04 - 1s/epoch - 2ms/step\n",
            "Epoch 20/100\n",
            "879/879 - 2s - loss: 4.1225e-04 - 2s/epoch - 2ms/step\n",
            "Epoch 21/100\n",
            "879/879 - 2s - loss: 4.1891e-04 - 2s/epoch - 2ms/step\n",
            "Epoch 22/100\n",
            "879/879 - 1s - loss: 4.2335e-04 - 1s/epoch - 2ms/step\n",
            "Epoch 23/100\n",
            "879/879 - 1s - loss: 4.2587e-04 - 1s/epoch - 2ms/step\n",
            "Epoch 24/100\n",
            "879/879 - 1s - loss: 4.2630e-04 - 1s/epoch - 2ms/step\n",
            "Epoch 25/100\n",
            "879/879 - 1s - loss: 4.0875e-04 - 1s/epoch - 2ms/step\n",
            "Epoch 26/100\n",
            "879/879 - 1s - loss: 4.2316e-04 - 1s/epoch - 2ms/step\n",
            "Epoch 27/100\n",
            "879/879 - 1s - loss: 4.2287e-04 - 1s/epoch - 2ms/step\n",
            "Epoch 28/100\n",
            "879/879 - 2s - loss: 4.2068e-04 - 2s/epoch - 2ms/step\n",
            "Epoch 29/100\n",
            "879/879 - 1s - loss: 4.0384e-04 - 1s/epoch - 2ms/step\n",
            "Epoch 30/100\n",
            "879/879 - 1s - loss: 4.1803e-04 - 1s/epoch - 2ms/step\n",
            "Epoch 31/100\n",
            "879/879 - 1s - loss: 4.0905e-04 - 1s/epoch - 2ms/step\n",
            "Epoch 32/100\n",
            "879/879 - 1s - loss: 4.1571e-04 - 1s/epoch - 2ms/step\n",
            "Epoch 33/100\n",
            "879/879 - 1s - loss: 4.1980e-04 - 1s/epoch - 2ms/step\n",
            "Epoch 34/100\n",
            "879/879 - 2s - loss: 4.0532e-04 - 2s/epoch - 2ms/step\n",
            "Epoch 35/100\n",
            "879/879 - 2s - loss: 4.2260e-04 - 2s/epoch - 2ms/step\n",
            "Epoch 36/100\n",
            "879/879 - 2s - loss: 4.1223e-04 - 2s/epoch - 2ms/step\n",
            "Epoch 37/100\n",
            "879/879 - 1s - loss: 4.1015e-04 - 1s/epoch - 2ms/step\n",
            "Epoch 38/100\n",
            "879/879 - 2s - loss: 4.1544e-04 - 2s/epoch - 2ms/step\n",
            "Epoch 39/100\n",
            "879/879 - 1s - loss: 4.1770e-04 - 1s/epoch - 2ms/step\n",
            "Epoch 40/100\n",
            "879/879 - 1s - loss: 4.1438e-04 - 1s/epoch - 2ms/step\n",
            "Epoch 41/100\n",
            "879/879 - 2s - loss: 4.1339e-04 - 2s/epoch - 2ms/step\n",
            "Epoch 42/100\n",
            "879/879 - 2s - loss: 4.2043e-04 - 2s/epoch - 2ms/step\n",
            "Epoch 43/100\n",
            "879/879 - 1s - loss: 4.1652e-04 - 1s/epoch - 2ms/step\n",
            "Epoch 44/100\n",
            "879/879 - 1s - loss: 4.1977e-04 - 1s/epoch - 2ms/step\n",
            "Epoch 45/100\n",
            "879/879 - 1s - loss: 4.1725e-04 - 1s/epoch - 2ms/step\n",
            "Epoch 46/100\n",
            "879/879 - 1s - loss: 4.1634e-04 - 1s/epoch - 2ms/step\n",
            "Epoch 47/100\n",
            "879/879 - 2s - loss: 4.1494e-04 - 2s/epoch - 2ms/step\n",
            "Epoch 48/100\n",
            "879/879 - 2s - loss: 4.0937e-04 - 2s/epoch - 2ms/step\n",
            "Epoch 49/100\n",
            "879/879 - 1s - loss: 4.1702e-04 - 1s/epoch - 2ms/step\n",
            "Epoch 50/100\n",
            "879/879 - 1s - loss: 4.1632e-04 - 1s/epoch - 2ms/step\n",
            "Epoch 51/100\n",
            "879/879 - 2s - loss: 4.1675e-04 - 2s/epoch - 2ms/step\n",
            "Epoch 52/100\n",
            "879/879 - 2s - loss: 4.1678e-04 - 2s/epoch - 2ms/step\n",
            "Epoch 53/100\n",
            "879/879 - 2s - loss: 4.2887e-04 - 2s/epoch - 2ms/step\n",
            "Epoch 54/100\n",
            "879/879 - 2s - loss: 4.2268e-04 - 2s/epoch - 2ms/step\n",
            "Epoch 55/100\n",
            "879/879 - 2s - loss: 4.2045e-04 - 2s/epoch - 2ms/step\n",
            "Epoch 56/100\n",
            "879/879 - 1s - loss: 4.1632e-04 - 1s/epoch - 2ms/step\n",
            "Epoch 57/100\n",
            "879/879 - 1s - loss: 4.1801e-04 - 1s/epoch - 2ms/step\n",
            "Epoch 58/100\n",
            "879/879 - 2s - loss: 4.1085e-04 - 2s/epoch - 2ms/step\n",
            "Epoch 59/100\n",
            "879/879 - 2s - loss: 4.0551e-04 - 2s/epoch - 2ms/step\n",
            "Epoch 60/100\n",
            "879/879 - 2s - loss: 4.0935e-04 - 2s/epoch - 2ms/step\n",
            "Epoch 61/100\n",
            "879/879 - 2s - loss: 4.0980e-04 - 2s/epoch - 2ms/step\n",
            "Epoch 62/100\n",
            "879/879 - 1s - loss: 4.1482e-04 - 1s/epoch - 2ms/step\n",
            "Epoch 63/100\n",
            "879/879 - 1s - loss: 4.2161e-04 - 1s/epoch - 2ms/step\n",
            "Epoch 64/100\n",
            "879/879 - 1s - loss: 4.2274e-04 - 1s/epoch - 2ms/step\n",
            "Epoch 65/100\n",
            "879/879 - 2s - loss: 4.1299e-04 - 2s/epoch - 3ms/step\n",
            "Epoch 66/100\n",
            "879/879 - 2s - loss: 4.1513e-04 - 2s/epoch - 2ms/step\n",
            "Epoch 67/100\n",
            "879/879 - 2s - loss: 4.1662e-04 - 2s/epoch - 2ms/step\n",
            "Epoch 68/100\n",
            "879/879 - 1s - loss: 4.1229e-04 - 1s/epoch - 2ms/step\n",
            "Epoch 69/100\n",
            "879/879 - 1s - loss: 4.0792e-04 - 1s/epoch - 2ms/step\n",
            "Epoch 70/100\n",
            "879/879 - 1s - loss: 4.1637e-04 - 1s/epoch - 2ms/step\n",
            "Epoch 71/100\n",
            "879/879 - 1s - loss: 4.0784e-04 - 1s/epoch - 2ms/step\n",
            "Epoch 72/100\n",
            "879/879 - 1s - loss: 4.1128e-04 - 1s/epoch - 2ms/step\n",
            "Epoch 73/100\n",
            "879/879 - 1s - loss: 4.0574e-04 - 1s/epoch - 2ms/step\n",
            "Epoch 74/100\n",
            "879/879 - 2s - loss: 4.1234e-04 - 2s/epoch - 2ms/step\n",
            "Epoch 75/100\n",
            "879/879 - 2s - loss: 4.0560e-04 - 2s/epoch - 2ms/step\n",
            "Epoch 76/100\n",
            "879/879 - 1s - loss: 4.1088e-04 - 1s/epoch - 2ms/step\n",
            "Epoch 77/100\n",
            "879/879 - 2s - loss: 4.1567e-04 - 2s/epoch - 2ms/step\n",
            "Epoch 78/100\n",
            "879/879 - 1s - loss: 4.2472e-04 - 1s/epoch - 2ms/step\n",
            "Epoch 79/100\n",
            "879/879 - 2s - loss: 4.2362e-04 - 2s/epoch - 2ms/step\n",
            "Epoch 80/100\n",
            "879/879 - 1s - loss: 4.2527e-04 - 1s/epoch - 2ms/step\n",
            "Epoch 81/100\n",
            "879/879 - 2s - loss: 4.1948e-04 - 2s/epoch - 2ms/step\n",
            "Epoch 82/100\n",
            "879/879 - 1s - loss: 4.1077e-04 - 1s/epoch - 2ms/step\n",
            "Epoch 83/100\n",
            "879/879 - 1s - loss: 4.1624e-04 - 1s/epoch - 2ms/step\n",
            "Epoch 84/100\n",
            "879/879 - 1s - loss: 4.1303e-04 - 1s/epoch - 2ms/step\n",
            "Epoch 85/100\n",
            "879/879 - 1s - loss: 4.2238e-04 - 1s/epoch - 2ms/step\n",
            "Epoch 86/100\n",
            "879/879 - 1s - loss: 4.3099e-04 - 1s/epoch - 2ms/step\n",
            "Epoch 87/100\n",
            "879/879 - 2s - loss: 4.1958e-04 - 2s/epoch - 2ms/step\n",
            "Epoch 88/100\n",
            "879/879 - 1s - loss: 4.0748e-04 - 1s/epoch - 2ms/step\n",
            "Epoch 89/100\n",
            "879/879 - 1s - loss: 4.1725e-04 - 1s/epoch - 2ms/step\n",
            "Epoch 90/100\n",
            "879/879 - 1s - loss: 4.1907e-04 - 1s/epoch - 2ms/step\n",
            "Epoch 91/100\n",
            "879/879 - 1s - loss: 4.1415e-04 - 1s/epoch - 2ms/step\n",
            "Epoch 92/100\n",
            "879/879 - 1s - loss: 4.0973e-04 - 1s/epoch - 2ms/step\n",
            "Epoch 93/100\n",
            "879/879 - 2s - loss: 4.0466e-04 - 2s/epoch - 2ms/step\n",
            "Epoch 94/100\n",
            "879/879 - 2s - loss: 4.0513e-04 - 2s/epoch - 2ms/step\n",
            "Epoch 95/100\n",
            "879/879 - 1s - loss: 4.1247e-04 - 1s/epoch - 2ms/step\n",
            "Epoch 96/100\n",
            "879/879 - 2s - loss: 4.0622e-04 - 2s/epoch - 2ms/step\n",
            "Epoch 97/100\n",
            "879/879 - 1s - loss: 4.0876e-04 - 1s/epoch - 2ms/step\n",
            "Epoch 98/100\n",
            "879/879 - 1s - loss: 4.2100e-04 - 1s/epoch - 2ms/step\n",
            "Epoch 99/100\n",
            "879/879 - 1s - loss: 4.1463e-04 - 1s/epoch - 2ms/step\n",
            "Epoch 100/100\n",
            "879/879 - 1s - loss: 4.1329e-04 - 1s/epoch - 2ms/step\n"
          ]
        },
        {
          "output_type": "execute_result",
          "data": {
            "text/plain": [
              "<keras.callbacks.History at 0x7fcbcead9e80>"
            ]
          },
          "metadata": {},
          "execution_count": 11
        }
      ]
    },
    {
      "cell_type": "markdown",
      "source": [
        "**MAKING PREDICTIONS USING THE TRAINED LSTM MODEL**"
      ],
      "metadata": {
        "id": "qqIjWobI7mly"
      }
    },
    {
      "cell_type": "code",
      "source": [
        "#predicting and inverse transforming the predictions\n",
        "# make predictions\n",
        "trainPredict = model.predict(trainX)\n",
        "testPredict = model.predict(testX)\n",
        "#invert predictions\n",
        "trainPredict = scaler.inverse_transform(trainPredict)\n",
        "trainY = scaler.inverse_transform([trainY])\n",
        "testPredict = scaler.inverse_transform(testPredict)\n",
        "testY = scaler.inverse_transform([testY])\n",
        "# calculate root mean squared error\n",
        "trainScore = math.sqrt(mean_squared_error(trainY[0], trainPredict[:,0]))\n",
        "print('Train Score: %.2f RMSE' % (trainScore))\n",
        "testScore = math.sqrt(mean_squared_error(testY[0], testPredict[:,0]))\n",
        "print('Test Score: %.2f RMSE' % (testScore))"
      ],
      "metadata": {
        "colab": {
          "base_uri": "https://localhost:8080/"
        },
        "id": "V9HqyFmhVzGc",
        "outputId": "b331d0d5-98ce-4937-ec5a-363f1053ca17"
      },
      "execution_count": 12,
      "outputs": [
        {
          "output_type": "stream",
          "name": "stdout",
          "text": [
            "28/28 [==============================] - 1s 2ms/step\n",
            "12/12 [==============================] - 0s 2ms/step\n",
            "Train Score: 10.80 RMSE\n",
            "Test Score: 14.40 RMSE\n"
          ]
        }
      ]
    },
    {
      "cell_type": "code",
      "source": [
        "# shift train predictions for plotting\n",
        "trainPredictPlot = numpy.empty_like(netflix)\n",
        "trainPredictPlot[:, :] = numpy.nan\n",
        "trainPredictPlot[look_back:len(trainPredict)+look_back, :] = trainPredict\n",
        "\n",
        "# shift test predictions for plotting\n",
        "testPredictPlot = numpy.empty_like(netflix)\n",
        "testPredictPlot[:, :] = numpy.nan\n",
        "testPredictPlot[len(trainPredict)+(look_back*2)+1:len(netflix)-1, :] = testPredict"
      ],
      "metadata": {
        "id": "NH-ihs8EV4OU"
      },
      "execution_count": 13,
      "outputs": []
    },
    {
      "cell_type": "markdown",
      "source": [
        "**PLOTTING THE ORIGINAL DATASET, THE TRAINING SET PREDICTIONS, AND THE TEST SET PREDICTIOONS**"
      ],
      "metadata": {
        "id": "v6SaBMnX9kQS"
      }
    },
    {
      "cell_type": "code",
      "source": [
        "# plot baseline and predictions\n",
        "plt.plot(scaler.inverse_transform(netflix))\n",
        "plt.plot(trainPredictPlot)\n",
        "plt.plot(testPredictPlot)\n",
        "plt.show()"
      ],
      "metadata": {
        "colab": {
          "base_uri": "https://localhost:8080/",
          "height": 265
        },
        "id": "Kh3YbC_wWH4C",
        "outputId": "23217e76-a9fb-44b2-aa8b-f48988b7f8dd"
      },
      "execution_count": 14,
      "outputs": [
        {
          "output_type": "display_data",
          "data": {
            "text/plain": [
              "<Figure size 432x288 with 1 Axes>"
            ],
            "image/png": "[encoded data removed]"
          },
          "metadata": {
            "needs_background": "light"
          }
        }
      ]
    },
    {
      "cell_type": "markdown",
      "source": [
        "**COMPARING THE ACTUAL TO THE PREDICTED STOCK PRICES**"
      ],
      "metadata": {
        "id": "Rx157IOt2ucy"
      }
    },
    {
      "cell_type": "code",
      "source": [
        "#comparison of actual and predicted\n",
        "actual = np.append(trainY, testY)\n",
        "predicted = np.append(trainPredict, testPredict)\n",
        "result_df =pd.DataFrame()\n",
        "result_df['Actual_Y']= actual\n",
        "result_df['Predicted_Y']=predicted\n",
        "print(result_df.head())"
      ],
      "metadata": {
        "colab": {
          "base_uri": "https://localhost:8080/"
        },
        "id": "hWYYRYQfWLSB",
        "outputId": "dbc6782d-c34d-47f7-9caf-f95c13dba062"
      },
      "execution_count": 15,
      "outputs": [
        {
          "output_type": "stream",
          "name": "stdout",
          "text": [
            "     Actual_Y  Predicted_Y\n",
            "0  209.309994   218.930756\n",
            "1  212.520004   216.416885\n",
            "2  217.240011   219.362854\n",
            "3  221.229990   223.716064\n",
            "4  221.530001   227.415451\n"
          ]
        }
      ]
    },
    {
      "cell_type": "code",
      "source": [
        "### End of Question 3b"
      ],
      "metadata": {
        "id": "9h9edRu3aU_9"
      },
      "execution_count": null,
      "outputs": []
    },
    {
      "cell_type": "code",
      "source": [
        "netflix_wd = pd.read_csv('NFLX.csv')\n",
        "netflix_wd.head()"
      ],
      "metadata": {
        "colab": {
          "base_uri": "https://localhost:8080/",
          "height": 206
        },
        "id": "c797rfllW1EP",
        "outputId": "967f062a-600e-46f2-bc27-e4d261868a11"
      },
      "execution_count": null,
      "outputs": [
        {
          "output_type": "execute_result",
          "data": {
            "text/plain": [
              "         Date        Open        High         Low       Close   Adj Close  \\\n",
              "0  2018-01-04  206.199997  207.050003  204.000000  205.630005  205.630005   \n",
              "1  2018-01-05  207.250000  210.020004  205.589996  209.990005  209.990005   \n",
              "2  2018-01-08  210.020004  212.500000  208.440002  212.050003  212.050003   \n",
              "3  2018-01-09  212.110001  212.979996  208.589996  209.309998  209.309998   \n",
              "4  2018-01-10  207.570007  213.639999  206.910004  212.520004  212.520004   \n",
              "\n",
              "    Volume  \n",
              "0  6029600  \n",
              "1  7033200  \n",
              "2  5580200  \n",
              "3  6125900  \n",
              "4  5951500  "
            ],
            "text/html": [
              "\n",
              "  <div id=\"df-29c4db94-a03a-4230-aebd-28de478a8d1d\">\n",
              "    <div class=\"colab-df-container\">\n",
              "      <div>\n",
              "<style scoped>\n",
              "    .dataframe tbody tr th:only-of-type {\n",
              "        vertical-align: middle;\n",
              "    }\n",
              "\n",
              "    .dataframe tbody tr th {\n",
              "        vertical-align: top;\n",
              "    }\n",
              "\n",
              "    .dataframe thead th {\n",
              "        text-align: right;\n",
              "    }\n",
              "</style>\n",
              "<table border=\"1\" class=\"dataframe\">\n",
              "  <thead>\n",
              "    <tr style=\"text-align: right;\">\n",
              "      <th></th>\n",
              "      <th>Date</th>\n",
              "      <th>Open</th>\n",
              "      <th>High</th>\n",
              "      <th>Low</th>\n",
              "      <th>Close</th>\n",
              "      <th>Adj Close</th>\n",
              "      <th>Volume</th>\n",
              "    </tr>\n",
              "  </thead>\n",
              "  <tbody>\n",
              "    <tr>\n",
              "      <th>0</th>\n",
              "      <td>2018-01-04</td>\n",
              "      <td>206.199997</td>\n",
              "      <td>207.050003</td>\n",
              "      <td>204.000000</td>\n",
              "      <td>205.630005</td>\n",
              "      <td>205.630005</td>\n",
              "      <td>6029600</td>\n",
              "    </tr>\n",
              "    <tr>\n",
              "      <th>1</th>\n",
              "      <td>2018-01-05</td>\n",
              "      <td>207.250000</td>\n",
              "      <td>210.020004</td>\n",
              "      <td>205.589996</td>\n",
              "      <td>209.990005</td>\n",
              "      <td>209.990005</td>\n",
              "      <td>7033200</td>\n",
              "    </tr>\n",
              "    <tr>\n",
              "      <th>2</th>\n",
              "      <td>2018-01-08</td>\n",
              "      <td>210.020004</td>\n",
              "      <td>212.500000</td>\n",
              "      <td>208.440002</td>\n",
              "      <td>212.050003</td>\n",
              "      <td>212.050003</td>\n",
              "      <td>5580200</td>\n",
              "    </tr>\n",
              "    <tr>\n",
              "      <th>3</th>\n",
              "      <td>2018-01-09</td>\n",
              "      <td>212.110001</td>\n",
              "      <td>212.979996</td>\n",
              "      <td>208.589996</td>\n",
              "      <td>209.309998</td>\n",
              "      <td>209.309998</td>\n",
              "      <td>6125900</td>\n",
              "    </tr>\n",
              "    <tr>\n",
              "      <th>4</th>\n",
              "      <td>2018-01-10</td>\n",
              "      <td>207.570007</td>\n",
              "      <td>213.639999</td>\n",
              "      <td>206.910004</td>\n",
              "      <td>212.520004</td>\n",
              "      <td>212.520004</td>\n",
              "      <td>5951500</td>\n",
              "    </tr>\n",
              "  </tbody>\n",
              "</table>\n",
              "</div>\n",
              "      <button class=\"colab-df-convert\" onclick=\"convertToInteractive('df-29c4db94-a03a-4230-aebd-28de478a8d1d')\"\n",
              "              title=\"Convert this dataframe to an interactive table.\"\n",
              "              style=\"display:none;\">\n",
              "        \n",
              "  <svg xmlns=\"http://www.w3.org/2000/svg\" height=\"24px\"viewBox=\"0 0 24 24\"\n",
              "       width=\"24px\">\n",
              "    <path d=\"M0 0h24v24H0V0z\" fill=\"none\"/>\n",
              "    <path d=\"M18.56 5.44l.94 2.06.94-2.06 2.06-.94-2.06-.94-.94-2.06-.94 2.06-2.06.94zm-11 1L8.5 8.5l.94-2.06 2.06-.94-2.06-.94L8.5 2.5l-.94 2.06-2.06.94zm10 10l.94 2.06.94-2.06 2.06-.94-2.06-.94-.94-2.06-.94 2.06-2.06.94z\"/><path d=\"M17.41 7.96l-1.37-1.37c-.4-.4-.92-.59-1.43-.59-.52 0-1.04.2-1.43.59L10.3 9.45l-7.72 7.72c-.78.78-.78 2.05 0 2.83L4 21.41c.39.39.9.59 1.41.59.51 0 1.02-.2 1.41-.59l7.78-7.78 2.81-2.81c.8-.78.8-2.07 0-2.86zM5.41 20L4 18.59l7.72-7.72 1.47 1.35L5.41 20z\"/>\n",
              "  </svg>\n",
              "      </button>\n",
              "      \n",
              "  <style>\n",
              "    .colab-df-container {\n",
              "      display:flex;\n",
              "      flex-wrap:wrap;\n",
              "      gap: 12px;\n",
              "    }\n",
              "\n",
              "    .colab-df-convert {\n",
              "      background-color: #E8F0FE;\n",
              "      border: none;\n",
              "      border-radius: 50%;\n",
              "      cursor: pointer;\n",
              "      display: none;\n",
              "      fill: #1967D2;\n",
              "      height: 32px;\n",
              "      padding: 0 0 0 0;\n",
              "      width: 32px;\n",
              "    }\n",
              "\n",
              "    .colab-df-convert:hover {\n",
              "      background-color: #E2EBFA;\n",
              "      box-shadow: 0px 1px 2px rgba(60, 64, 67, 0.3), 0px 1px 3px 1px rgba(60, 64, 67, 0.15);\n",
              "      fill: #174EA6;\n",
              "    }\n",
              "\n",
              "    [theme=dark] .colab-df-convert {\n",
              "      background-color: #3B4455;\n",
              "      fill: #D2E3FC;\n",
              "    }\n",
              "\n",
              "    [theme=dark] .colab-df-convert:hover {\n",
              "      background-color: #434B5C;\n",
              "      box-shadow: 0px 1px 3px 1px rgba(0, 0, 0, 0.15);\n",
              "      filter: drop-shadow(0px 1px 2px rgba(0, 0, 0, 0.3));\n",
              "      fill: #FFFFFF;\n",
              "    }\n",
              "  </style>\n",
              "\n",
              "      <script>\n",
              "        const buttonEl =\n",
              "          document.querySelector('#df-29c4db94-a03a-4230-aebd-28de478a8d1d button.colab-df-convert');\n",
              "        buttonEl.style.display =\n",
              "          google.colab.kernel.accessAllowed ? 'block' : 'none';\n",
              "\n",
              "        async function convertToInteractive(key) {\n",
              "          const element = document.querySelector('#df-29c4db94-a03a-4230-aebd-28de478a8d1d');\n",
              "          const dataTable =\n",
              "            await google.colab.kernel.invokeFunction('convertToInteractive',\n",
              "                                                     [key], {});\n",
              "          if (!dataTable) return;\n",
              "\n",
              "          const docLinkHtml = 'Like what you see? Visit the ' +\n",
              "            '<a target=\"_blank\" href=https://colab.research.google.com/notebooks/data_table.ipynb>data table notebook</a>'\n",
              "            + ' to learn more about interactive tables.';\n",
              "          element.innerHTML = '';\n",
              "          dataTable['output_type'] = 'display_data';\n",
              "          await google.colab.output.renderOutput(dataTable, element);\n",
              "          const docLink = document.createElement('div');\n",
              "          docLink.innerHTML = docLinkHtml;\n",
              "          element.appendChild(docLink);\n",
              "        }\n",
              "      </script>\n",
              "    </div>\n",
              "  </div>\n",
              "  "
            ]
          },
          "metadata": {},
          "execution_count": 16
        }
      ]
    },
    {
      "cell_type": "code",
      "source": [
        "netflix_x = netflix_wd.loc[(netflix_wd['Date'] >= '2022-01-01') & (netflix_wd['Date'] < '2023-01-01')]\n",
        "netflix_x.head()"
      ],
      "metadata": {
        "colab": {
          "base_uri": "https://localhost:8080/",
          "height": 206
        },
        "id": "dvx4piobW9D6",
        "outputId": "c01af4f6-37af-4b35-bbd3-ba458a59828d"
      },
      "execution_count": null,
      "outputs": [
        {
          "output_type": "execute_result",
          "data": {
            "text/plain": [
              "            Date        Open        High         Low       Close   Adj Close  \\\n",
              "1006  2022-01-03  605.609985  609.989990  590.559998  597.369995  597.369995   \n",
              "1007  2022-01-04  599.909973  600.409973  581.599976  591.150024  591.150024   \n",
              "1008  2022-01-05  592.000000  592.840027  566.880005  567.520020  567.520020   \n",
              "1009  2022-01-06  554.340027  563.359985  542.010010  553.289978  553.289978   \n",
              "1010  2022-01-07  549.460022  553.429993  538.219971  541.059998  541.059998   \n",
              "\n",
              "       Volume  \n",
              "1006  3067500  \n",
              "1007  4393100  \n",
              "1008  4148700  \n",
              "1009  5711800  \n",
              "1010  3382900  "
            ],
            "text/html": [
              "\n",
              "  <div id=\"df-05ee6b5b-093c-4baa-a8a2-5209b1b7ca34\">\n",
              "    <div class=\"colab-df-container\">\n",
              "      <div>\n",
              "<style scoped>\n",
              "    .dataframe tbody tr th:only-of-type {\n",
              "        vertical-align: middle;\n",
              "    }\n",
              "\n",
              "    .dataframe tbody tr th {\n",
              "        vertical-align: top;\n",
              "    }\n",
              "\n",
              "    .dataframe thead th {\n",
              "        text-align: right;\n",
              "    }\n",
              "</style>\n",
              "<table border=\"1\" class=\"dataframe\">\n",
              "  <thead>\n",
              "    <tr style=\"text-align: right;\">\n",
              "      <th></th>\n",
              "      <th>Date</th>\n",
              "      <th>Open</th>\n",
              "      <th>High</th>\n",
              "      <th>Low</th>\n",
              "      <th>Close</th>\n",
              "      <th>Adj Close</th>\n",
              "      <th>Volume</th>\n",
              "    </tr>\n",
              "  </thead>\n",
              "  <tbody>\n",
              "    <tr>\n",
              "      <th>1006</th>\n",
              "      <td>2022-01-03</td>\n",
              "      <td>605.609985</td>\n",
              "      <td>609.989990</td>\n",
              "      <td>590.559998</td>\n",
              "      <td>597.369995</td>\n",
              "      <td>597.369995</td>\n",
              "      <td>3067500</td>\n",
              "    </tr>\n",
              "    <tr>\n",
              "      <th>1007</th>\n",
              "      <td>2022-01-04</td>\n",
              "      <td>599.909973</td>\n",
              "      <td>600.409973</td>\n",
              "      <td>581.599976</td>\n",
              "      <td>591.150024</td>\n",
              "      <td>591.150024</td>\n",
              "      <td>4393100</td>\n",
              "    </tr>\n",
              "    <tr>\n",
              "      <th>1008</th>\n",
              "      <td>2022-01-05</td>\n",
              "      <td>592.000000</td>\n",
              "      <td>592.840027</td>\n",
              "      <td>566.880005</td>\n",
              "      <td>567.520020</td>\n",
              "      <td>567.520020</td>\n",
              "      <td>4148700</td>\n",
              "    </tr>\n",
              "    <tr>\n",
              "      <th>1009</th>\n",
              "      <td>2022-01-06</td>\n",
              "      <td>554.340027</td>\n",
              "      <td>563.359985</td>\n",
              "      <td>542.010010</td>\n",
              "      <td>553.289978</td>\n",
              "      <td>553.289978</td>\n",
              "      <td>5711800</td>\n",
              "    </tr>\n",
              "    <tr>\n",
              "      <th>1010</th>\n",
              "      <td>2022-01-07</td>\n",
              "      <td>549.460022</td>\n",
              "      <td>553.429993</td>\n",
              "      <td>538.219971</td>\n",
              "      <td>541.059998</td>\n",
              "      <td>541.059998</td>\n",
              "      <td>3382900</td>\n",
              "    </tr>\n",
              "  </tbody>\n",
              "</table>\n",
              "</div>\n",
              "      <button class=\"colab-df-convert\" onclick=\"convertToInteractive('df-05ee6b5b-093c-4baa-a8a2-5209b1b7ca34')\"\n",
              "              title=\"Convert this dataframe to an interactive table.\"\n",
              "              style=\"display:none;\">\n",
              "        \n",
              "  <svg xmlns=\"http://www.w3.org/2000/svg\" height=\"24px\"viewBox=\"0 0 24 24\"\n",
              "       width=\"24px\">\n",
              "    <path d=\"M0 0h24v24H0V0z\" fill=\"none\"/>\n",
              "    <path d=\"M18.56 5.44l.94 2.06.94-2.06 2.06-.94-2.06-.94-.94-2.06-.94 2.06-2.06.94zm-11 1L8.5 8.5l.94-2.06 2.06-.94-2.06-.94L8.5 2.5l-.94 2.06-2.06.94zm10 10l.94 2.06.94-2.06 2.06-.94-2.06-.94-.94-2.06-.94 2.06-2.06.94z\"/><path d=\"M17.41 7.96l-1.37-1.37c-.4-.4-.92-.59-1.43-.59-.52 0-1.04.2-1.43.59L10.3 9.45l-7.72 7.72c-.78.78-.78 2.05 0 2.83L4 21.41c.39.39.9.59 1.41.59.51 0 1.02-.2 1.41-.59l7.78-7.78 2.81-2.81c.8-.78.8-2.07 0-2.86zM5.41 20L4 18.59l7.72-7.72 1.47 1.35L5.41 20z\"/>\n",
              "  </svg>\n",
              "      </button>\n",
              "      \n",
              "  <style>\n",
              "    .colab-df-container {\n",
              "      display:flex;\n",
              "      flex-wrap:wrap;\n",
              "      gap: 12px;\n",
              "    }\n",
              "\n",
              "    .colab-df-convert {\n",
              "      background-color: #E8F0FE;\n",
              "      border: none;\n",
              "      border-radius: 50%;\n",
              "      cursor: pointer;\n",
              "      display: none;\n",
              "      fill: #1967D2;\n",
              "      height: 32px;\n",
              "      padding: 0 0 0 0;\n",
              "      width: 32px;\n",
              "    }\n",
              "\n",
              "    .colab-df-convert:hover {\n",
              "      background-color: #E2EBFA;\n",
              "      box-shadow: 0px 1px 2px rgba(60, 64, 67, 0.3), 0px 1px 3px 1px rgba(60, 64, 67, 0.15);\n",
              "      fill: #174EA6;\n",
              "    }\n",
              "\n",
              "    [theme=dark] .colab-df-convert {\n",
              "      background-color: #3B4455;\n",
              "      fill: #D2E3FC;\n",
              "    }\n",
              "\n",
              "    [theme=dark] .colab-df-convert:hover {\n",
              "      background-color: #434B5C;\n",
              "      box-shadow: 0px 1px 3px 1px rgba(0, 0, 0, 0.15);\n",
              "      filter: drop-shadow(0px 1px 2px rgba(0, 0, 0, 0.3));\n",
              "      fill: #FFFFFF;\n",
              "    }\n",
              "  </style>\n",
              "\n",
              "      <script>\n",
              "        const buttonEl =\n",
              "          document.querySelector('#df-05ee6b5b-093c-4baa-a8a2-5209b1b7ca34 button.colab-df-convert');\n",
              "        buttonEl.style.display =\n",
              "          google.colab.kernel.accessAllowed ? 'block' : 'none';\n",
              "\n",
              "        async function convertToInteractive(key) {\n",
              "          const element = document.querySelector('#df-05ee6b5b-093c-4baa-a8a2-5209b1b7ca34');\n",
              "          const dataTable =\n",
              "            await google.colab.kernel.invokeFunction('convertToInteractive',\n",
              "                                                     [key], {});\n",
              "          if (!dataTable) return;\n",
              "\n",
              "          const docLinkHtml = 'Like what you see? Visit the ' +\n",
              "            '<a target=\"_blank\" href=https://colab.research.google.com/notebooks/data_table.ipynb>data table notebook</a>'\n",
              "            + ' to learn more about interactive tables.';\n",
              "          element.innerHTML = '';\n",
              "          dataTable['output_type'] = 'display_data';\n",
              "          await google.colab.output.renderOutput(dataTable, element);\n",
              "          const docLink = document.createElement('div');\n",
              "          docLink.innerHTML = docLinkHtml;\n",
              "          element.appendChild(docLink);\n",
              "        }\n",
              "      </script>\n",
              "    </div>\n",
              "  </div>\n",
              "  "
            ]
          },
          "metadata": {},
          "execution_count": 30
        }
      ]
    },
    {
      "cell_type": "code",
      "source": [
        "netflix_x.to_csv('prev_data.csv', index=False)"
      ],
      "metadata": {
        "id": "L7GPyDX6XKTj"
      },
      "execution_count": null,
      "outputs": []
    },
    {
      "cell_type": "code",
      "source": [
        "netflix=netflix_x['Adj Close']\n",
        "netflix.head()"
      ],
      "metadata": {
        "colab": {
          "base_uri": "https://localhost:8080/"
        },
        "id": "kxBH54vXXNHE",
        "outputId": "30d6eb7b-fc00-4521-beda-d8b99f4db45c"
      },
      "execution_count": null,
      "outputs": [
        {
          "output_type": "execute_result",
          "data": {
            "text/plain": [
              "1006    597.369995\n",
              "1007    591.150024\n",
              "1008    567.520020\n",
              "1009    553.289978\n",
              "1010    541.059998\n",
              "Name: Adj Close, dtype: float64"
            ]
          },
          "metadata": {},
          "execution_count": 20
        }
      ]
    },
    {
      "cell_type": "code",
      "source": [
        "plt.plot(netflix) \n",
        "plt.show()"
      ],
      "metadata": {
        "colab": {
          "base_uri": "https://localhost:8080/",
          "height": 265
        },
        "id": "MSReM-jTX5qy",
        "outputId": "f12bc595-ed06-431b-8c42-2d7176b315b8"
      },
      "execution_count": null,
      "outputs": [
        {
          "output_type": "display_data",
          "data": {
            "text/plain": [
              "<Figure size 432x288 with 1 Axes>"
            ],
            "image/png": "[encoded data removed]"
          },
          "metadata": {
            "needs_background": "light"
          }
        }
      ]
    },
    {
      "cell_type": "code",
      "source": [
        "# fix random seed for reproducibility\n",
        "np.random.seed(7)\n",
        "netflix = netflix.values\n",
        "netflix = netflix.astype('float32')\n"
      ],
      "metadata": {
        "id": "R0IFP1bjX94a"
      },
      "execution_count": null,
      "outputs": []
    },
    {
      "cell_type": "code",
      "source": [
        "# normalize the dataset\n",
        "scaler = MinMaxScaler(feature_range=(0, 1))\n",
        "netflix = scaler.fit_transform(netflix)\n"
      ],
      "metadata": {
        "id": "T9zyTvGfYAh4"
      },
      "execution_count": null,
      "outputs": []
    },
    {
      "cell_type": "code",
      "source": [
        "# split into train and test sets\n",
        "train_size = int(len(netflix) * 0.70)\n",
        "test_size = len(netflix) - train_size\n",
        "train, test = netflix[0:train_size,:], \\\n",
        "              netflix[train_size:len(netflix),:]\n",
        "print(len(train), len(test))"
      ],
      "metadata": {
        "colab": {
          "base_uri": "https://localhost:8080/"
        },
        "id": "gWVrmtAVYDTO",
        "outputId": "3e40e92b-c9b2-4c19-e07c-ad79719bbd3a"
      },
      "execution_count": null,
      "outputs": [
        {
          "output_type": "stream",
          "name": "stdout",
          "text": [
            "175 76\n"
          ]
        }
      ]
    },
    {
      "cell_type": "code",
      "source": [
        "def create_netflix(netflix, look_back=1):\n",
        "    # convert an array of values into a dataset matrix\n",
        "    dataX, dataY = [], []\n",
        "    for i in range(len(netflix)-look_back-1):\n",
        "        a = netflix[i:(i+look_back), 0]\n",
        "        dataX.append(a)\n",
        "        dataY.append(netflix[i + look_back, 0])\n",
        "    return numpy.array(dataX), numpy.array(dataY)\n",
        "# fix random seed for reproducibility\n",
        "numpy.random.seed(7)"
      ],
      "metadata": {
        "id": "V_6jfAx2YJDd"
      },
      "execution_count": null,
      "outputs": []
    },
    {
      "cell_type": "code",
      "source": [
        "# reshape into X=t and Y=t+1\n",
        "look_back = 1\n",
        "trainX, trainY = create_netflix(train, look_back)\n",
        "testX, testY = create_netflix(test, look_back)\n",
        "# reshape input to be [samples, time steps, features]\n",
        "trainX = numpy.reshape(trainX, (trainX.shape[0], 1,\n",
        "                                trainX.shape[1]))\n",
        "testX = numpy.reshape(testX, (testX.shape[0], 1, testX.shape[1]))\n"
      ],
      "metadata": {
        "id": "lEW_yYjQYKUt"
      },
      "execution_count": null,
      "outputs": []
    },
    {
      "cell_type": "code",
      "source": [
        "# create and fit the LSTM network\n",
        "model = Sequential()\n",
        "model.add(LSTM(5, input_shape=(1, look_back)))\n",
        "model.add(Dense(1))\n",
        "model.compile(loss='mean_squared_error', optimizer='adam')\n",
        "model.fit(trainX, trainY, epochs=100, batch_size=1, verbose=2)"
      ],
      "metadata": {
        "colab": {
          "base_uri": "https://localhost:8080/"
        },
        "id": "-K3tdtkkYNsV",
        "outputId": "15ac11f1-5c41-42b6-9649-5aba2262187b"
      },
      "execution_count": null,
      "outputs": [
        {
          "output_type": "stream",
          "name": "stdout",
          "text": [
            "Epoch 1/100\n",
            "173/173 - 2s - loss: 0.0958 - 2s/epoch - 11ms/step\n",
            "Epoch 2/100\n",
            "173/173 - 0s - loss: 0.0479 - 294ms/epoch - 2ms/step\n",
            "Epoch 3/100\n",
            "173/173 - 0s - loss: 0.0354 - 326ms/epoch - 2ms/step\n",
            "Epoch 4/100\n",
            "173/173 - 0s - loss: 0.0262 - 300ms/epoch - 2ms/step\n",
            "Epoch 5/100\n",
            "173/173 - 0s - loss: 0.0181 - 280ms/epoch - 2ms/step\n",
            "Epoch 6/100\n",
            "173/173 - 0s - loss: 0.0113 - 304ms/epoch - 2ms/step\n",
            "Epoch 7/100\n",
            "173/173 - 0s - loss: 0.0064 - 291ms/epoch - 2ms/step\n",
            "Epoch 8/100\n",
            "173/173 - 0s - loss: 0.0034 - 268ms/epoch - 2ms/step\n",
            "Epoch 9/100\n",
            "173/173 - 0s - loss: 0.0021 - 281ms/epoch - 2ms/step\n",
            "Epoch 10/100\n",
            "173/173 - 0s - loss: 0.0015 - 300ms/epoch - 2ms/step\n",
            "Epoch 11/100\n",
            "173/173 - 0s - loss: 0.0014 - 282ms/epoch - 2ms/step\n",
            "Epoch 12/100\n",
            "173/173 - 0s - loss: 0.0013 - 288ms/epoch - 2ms/step\n",
            "Epoch 13/100\n",
            "173/173 - 0s - loss: 0.0013 - 317ms/epoch - 2ms/step\n",
            "Epoch 14/100\n",
            "173/173 - 0s - loss: 0.0013 - 315ms/epoch - 2ms/step\n",
            "Epoch 15/100\n",
            "173/173 - 0s - loss: 0.0013 - 290ms/epoch - 2ms/step\n",
            "Epoch 16/100\n",
            "173/173 - 0s - loss: 0.0013 - 286ms/epoch - 2ms/step\n",
            "Epoch 17/100\n",
            "173/173 - 0s - loss: 0.0014 - 304ms/epoch - 2ms/step\n",
            "Epoch 18/100\n",
            "173/173 - 0s - loss: 0.0013 - 297ms/epoch - 2ms/step\n",
            "Epoch 19/100\n",
            "173/173 - 0s - loss: 0.0013 - 299ms/epoch - 2ms/step\n",
            "Epoch 20/100\n",
            "173/173 - 0s - loss: 0.0013 - 317ms/epoch - 2ms/step\n",
            "Epoch 21/100\n",
            "173/173 - 0s - loss: 0.0013 - 295ms/epoch - 2ms/step\n",
            "Epoch 22/100\n",
            "173/173 - 0s - loss: 0.0014 - 295ms/epoch - 2ms/step\n",
            "Epoch 23/100\n",
            "173/173 - 0s - loss: 0.0014 - 290ms/epoch - 2ms/step\n",
            "Epoch 24/100\n",
            "173/173 - 0s - loss: 0.0014 - 286ms/epoch - 2ms/step\n",
            "Epoch 25/100\n",
            "173/173 - 0s - loss: 0.0014 - 283ms/epoch - 2ms/step\n",
            "Epoch 26/100\n",
            "173/173 - 0s - loss: 0.0014 - 284ms/epoch - 2ms/step\n",
            "Epoch 27/100\n",
            "173/173 - 0s - loss: 0.0013 - 293ms/epoch - 2ms/step\n",
            "Epoch 28/100\n",
            "173/173 - 0s - loss: 0.0014 - 282ms/epoch - 2ms/step\n",
            "Epoch 29/100\n",
            "173/173 - 0s - loss: 0.0014 - 279ms/epoch - 2ms/step\n",
            "Epoch 30/100\n",
            "173/173 - 0s - loss: 0.0013 - 301ms/epoch - 2ms/step\n",
            "Epoch 31/100\n",
            "173/173 - 0s - loss: 0.0014 - 305ms/epoch - 2ms/step\n",
            "Epoch 32/100\n",
            "173/173 - 0s - loss: 0.0014 - 309ms/epoch - 2ms/step\n",
            "Epoch 33/100\n",
            "173/173 - 1s - loss: 0.0014 - 811ms/epoch - 5ms/step\n",
            "Epoch 34/100\n",
            "173/173 - 0s - loss: 0.0013 - 361ms/epoch - 2ms/step\n",
            "Epoch 35/100\n",
            "173/173 - 0s - loss: 0.0014 - 337ms/epoch - 2ms/step\n",
            "Epoch 36/100\n",
            "173/173 - 0s - loss: 0.0014 - 289ms/epoch - 2ms/step\n",
            "Epoch 37/100\n",
            "173/173 - 0s - loss: 0.0014 - 288ms/epoch - 2ms/step\n",
            "Epoch 38/100\n",
            "173/173 - 0s - loss: 0.0013 - 291ms/epoch - 2ms/step\n",
            "Epoch 39/100\n",
            "173/173 - 0s - loss: 0.0014 - 299ms/epoch - 2ms/step\n",
            "Epoch 40/100\n",
            "173/173 - 0s - loss: 0.0013 - 281ms/epoch - 2ms/step\n",
            "Epoch 41/100\n",
            "173/173 - 0s - loss: 0.0014 - 292ms/epoch - 2ms/step\n",
            "Epoch 42/100\n",
            "173/173 - 0s - loss: 0.0014 - 286ms/epoch - 2ms/step\n",
            "Epoch 43/100\n",
            "173/173 - 0s - loss: 0.0014 - 282ms/epoch - 2ms/step\n",
            "Epoch 44/100\n",
            "173/173 - 0s - loss: 0.0014 - 293ms/epoch - 2ms/step\n",
            "Epoch 45/100\n",
            "173/173 - 0s - loss: 0.0013 - 344ms/epoch - 2ms/step\n",
            "Epoch 46/100\n",
            "173/173 - 0s - loss: 0.0013 - 295ms/epoch - 2ms/step\n",
            "Epoch 47/100\n",
            "173/173 - 0s - loss: 0.0014 - 293ms/epoch - 2ms/step\n",
            "Epoch 48/100\n",
            "173/173 - 0s - loss: 0.0014 - 304ms/epoch - 2ms/step\n",
            "Epoch 49/100\n",
            "173/173 - 0s - loss: 0.0014 - 333ms/epoch - 2ms/step\n",
            "Epoch 50/100\n",
            "173/173 - 0s - loss: 0.0014 - 297ms/epoch - 2ms/step\n",
            "Epoch 51/100\n",
            "173/173 - 0s - loss: 0.0014 - 287ms/epoch - 2ms/step\n",
            "Epoch 52/100\n",
            "173/173 - 0s - loss: 0.0014 - 292ms/epoch - 2ms/step\n",
            "Epoch 53/100\n",
            "173/173 - 0s - loss: 0.0013 - 295ms/epoch - 2ms/step\n",
            "Epoch 54/100\n",
            "173/173 - 0s - loss: 0.0014 - 278ms/epoch - 2ms/step\n",
            "Epoch 55/100\n",
            "173/173 - 0s - loss: 0.0014 - 294ms/epoch - 2ms/step\n",
            "Epoch 56/100\n",
            "173/173 - 0s - loss: 0.0014 - 319ms/epoch - 2ms/step\n",
            "Epoch 57/100\n",
            "173/173 - 0s - loss: 0.0014 - 281ms/epoch - 2ms/step\n",
            "Epoch 58/100\n",
            "173/173 - 0s - loss: 0.0014 - 288ms/epoch - 2ms/step\n",
            "Epoch 59/100\n",
            "173/173 - 0s - loss: 0.0014 - 296ms/epoch - 2ms/step\n",
            "Epoch 60/100\n",
            "173/173 - 0s - loss: 0.0013 - 278ms/epoch - 2ms/step\n",
            "Epoch 61/100\n",
            "173/173 - 0s - loss: 0.0014 - 299ms/epoch - 2ms/step\n",
            "Epoch 62/100\n",
            "173/173 - 0s - loss: 0.0013 - 332ms/epoch - 2ms/step\n",
            "Epoch 63/100\n",
            "173/173 - 0s - loss: 0.0013 - 283ms/epoch - 2ms/step\n",
            "Epoch 64/100\n",
            "173/173 - 0s - loss: 0.0013 - 298ms/epoch - 2ms/step\n",
            "Epoch 65/100\n",
            "173/173 - 0s - loss: 0.0013 - 290ms/epoch - 2ms/step\n",
            "Epoch 66/100\n",
            "173/173 - 0s - loss: 0.0014 - 291ms/epoch - 2ms/step\n",
            "Epoch 67/100\n",
            "173/173 - 0s - loss: 0.0013 - 285ms/epoch - 2ms/step\n",
            "Epoch 68/100\n",
            "173/173 - 0s - loss: 0.0014 - 289ms/epoch - 2ms/step\n",
            "Epoch 69/100\n",
            "173/173 - 0s - loss: 0.0014 - 301ms/epoch - 2ms/step\n",
            "Epoch 70/100\n",
            "173/173 - 0s - loss: 0.0013 - 277ms/epoch - 2ms/step\n",
            "Epoch 71/100\n",
            "173/173 - 0s - loss: 0.0014 - 293ms/epoch - 2ms/step\n",
            "Epoch 72/100\n",
            "173/173 - 0s - loss: 0.0014 - 311ms/epoch - 2ms/step\n",
            "Epoch 73/100\n",
            "173/173 - 0s - loss: 0.0014 - 304ms/epoch - 2ms/step\n",
            "Epoch 74/100\n",
            "173/173 - 0s - loss: 0.0014 - 278ms/epoch - 2ms/step\n",
            "Epoch 75/100\n",
            "173/173 - 0s - loss: 0.0013 - 339ms/epoch - 2ms/step\n",
            "Epoch 76/100\n",
            "173/173 - 0s - loss: 0.0013 - 299ms/epoch - 2ms/step\n",
            "Epoch 77/100\n",
            "173/173 - 0s - loss: 0.0014 - 280ms/epoch - 2ms/step\n",
            "Epoch 78/100\n",
            "173/173 - 0s - loss: 0.0014 - 299ms/epoch - 2ms/step\n",
            "Epoch 79/100\n",
            "173/173 - 0s - loss: 0.0014 - 329ms/epoch - 2ms/step\n",
            "Epoch 80/100\n",
            "173/173 - 0s - loss: 0.0014 - 292ms/epoch - 2ms/step\n",
            "Epoch 81/100\n",
            "173/173 - 0s - loss: 0.0014 - 288ms/epoch - 2ms/step\n",
            "Epoch 82/100\n",
            "173/173 - 0s - loss: 0.0014 - 316ms/epoch - 2ms/step\n",
            "Epoch 83/100\n",
            "173/173 - 0s - loss: 0.0014 - 320ms/epoch - 2ms/step\n",
            "Epoch 84/100\n",
            "173/173 - 0s - loss: 0.0014 - 324ms/epoch - 2ms/step\n",
            "Epoch 85/100\n",
            "173/173 - 0s - loss: 0.0014 - 321ms/epoch - 2ms/step\n",
            "Epoch 86/100\n",
            "173/173 - 0s - loss: 0.0014 - 322ms/epoch - 2ms/step\n",
            "Epoch 87/100\n",
            "173/173 - 0s - loss: 0.0013 - 312ms/epoch - 2ms/step\n",
            "Epoch 88/100\n",
            "173/173 - 0s - loss: 0.0013 - 311ms/epoch - 2ms/step\n",
            "Epoch 89/100\n",
            "173/173 - 0s - loss: 0.0014 - 302ms/epoch - 2ms/step\n",
            "Epoch 90/100\n",
            "173/173 - 0s - loss: 0.0014 - 312ms/epoch - 2ms/step\n",
            "Epoch 91/100\n",
            "173/173 - 0s - loss: 0.0014 - 309ms/epoch - 2ms/step\n",
            "Epoch 92/100\n",
            "173/173 - 0s - loss: 0.0014 - 315ms/epoch - 2ms/step\n",
            "Epoch 93/100\n",
            "173/173 - 0s - loss: 0.0013 - 298ms/epoch - 2ms/step\n",
            "Epoch 94/100\n",
            "173/173 - 0s - loss: 0.0014 - 305ms/epoch - 2ms/step\n",
            "Epoch 95/100\n",
            "173/173 - 0s - loss: 0.0014 - 285ms/epoch - 2ms/step\n",
            "Epoch 96/100\n",
            "173/173 - 0s - loss: 0.0014 - 304ms/epoch - 2ms/step\n",
            "Epoch 97/100\n",
            "173/173 - 0s - loss: 0.0014 - 297ms/epoch - 2ms/step\n",
            "Epoch 98/100\n",
            "173/173 - 0s - loss: 0.0014 - 296ms/epoch - 2ms/step\n",
            "Epoch 99/100\n",
            "173/173 - 0s - loss: 0.0014 - 310ms/epoch - 2ms/step\n",
            "Epoch 100/100\n",
            "173/173 - 0s - loss: 0.0014 - 295ms/epoch - 2ms/step\n"
          ]
        },
        {
          "output_type": "execute_result",
          "data": {
            "text/plain": [
              "<keras.callbacks.History at 0x7ffa75571f10>"
            ]
          },
          "metadata": {},
          "execution_count": 29
        }
      ]
    },
    {
      "cell_type": "code",
      "source": [
        "#predicting and inverse transforming the predictions\n",
        "# make predictions\n",
        "trainPredict = model.predict(trainX)\n",
        "testPredict = model.predict(testX)"
      ],
      "metadata": {
        "colab": {
          "base_uri": "https://localhost:8080/"
        },
        "id": "AydzbDgkZj-B",
        "outputId": "a767a171-7212-42a8-c081-61e7341a1d35"
      },
      "execution_count": null,
      "outputs": [
        {
          "output_type": "stream",
          "name": "stdout",
          "text": [
            "6/6 [==============================] - 0s 3ms/step\n",
            "3/3 [==============================] - 0s 5ms/step\n"
          ]
        }
      ]
    },
    {
      "cell_type": "code",
      "source": [
        "#invert predictions\n",
        "trainPredict = scaler.inverse_transform(trainPredict)\n",
        "trainY = scaler.inverse_transform([trainY])\n",
        "testPredict = scaler.inverse_transform(testPredict)\n",
        "testY = scaler.inverse_transform([testY])"
      ],
      "metadata": {
        "id": "RLl_XfGeZgzh"
      },
      "execution_count": null,
      "outputs": []
    },
    {
      "cell_type": "code",
      "source": [
        "# calculate root mean squared error\n",
        "trainScore = math.sqrt(mean_squared_error(trainY[0], trainPredict[:,0]))\n",
        "print('Train Score: %.2f RMSE' % (trainScore))\n",
        "testScore = math.sqrt(mean_squared_error(testY[0], testPredict[:,0]))\n",
        "print('Test Score: %.2f RMSE' % (testScore))"
      ],
      "metadata": {
        "colab": {
          "base_uri": "https://localhost:8080/"
        },
        "id": "9QMfMHbqZpeO",
        "outputId": "cfaab916-9731-44f0-c196-54438ad68af3"
      },
      "execution_count": null,
      "outputs": [
        {
          "output_type": "stream",
          "name": "stdout",
          "text": [
            "Train Score: 15.50 RMSE\n",
            "Test Score: 10.61 RMSE\n"
          ]
        }
      ]
    },
    {
      "cell_type": "code",
      "source": [
        "# shift train predictions for plotting\n",
        "trainPredictPlot = numpy.empty_like(netflix)\n",
        "trainPredictPlot[:, :] = numpy.nan\n",
        "trainPredictPlot[look_back:len(trainPredict)+look_back, :] = trainPredict\n",
        "\n",
        "# shift test predictions for plotting\n",
        "testPredictPlot = numpy.empty_like(netflix)\n",
        "testPredictPlot[:, :] = numpy.nan\n",
        "testPredictPlot[len(trainPredict)+(look_back*2)+1:len(netflix)-1, :] = testPredict\n"
      ],
      "metadata": {
        "id": "7858F3NqZtiU"
      },
      "execution_count": null,
      "outputs": []
    },
    {
      "cell_type": "code",
      "source": [
        "\n",
        "# plot baseline and predictions\n",
        "plt.plot(scaler.inverse_transform(netflix))\n",
        "plt.plot(trainPredictPlot)\n",
        "plt.plot(testPredictPlot)\n",
        "plt.show()\n",
        "#"
      ],
      "metadata": {
        "colab": {
          "base_uri": "https://localhost:8080/",
          "height": 265
        },
        "id": "6NvRBA7xZyLC",
        "outputId": "e1509ebd-dcb8-4b01-c015-8a9ab9b31e9b"
      },
      "execution_count": null,
      "outputs": [
        {
          "output_type": "display_data",
          "data": {
            "text/plain": [
              "<Figure size 432x288 with 1 Axes>"
            ],
            "image/png": "[encoded data removed]"
          },
          "metadata": {
            "needs_background": "light"
          }
        }
      ]
    },
    {
      "cell_type": "code",
      "source": [
        "#comparison of actual and predicted\n",
        "actual = np.append(trainY, testY)\n",
        "predicted = np.append(trainPredict, testPredict)\n",
        "result_df =pd.DataFrame()\n",
        "result_df['Actual_Y']= actual\n",
        "result_df['Predicted_Y']=predicted\n",
        "print(result_df.head())"
      ],
      "metadata": {
        "colab": {
          "base_uri": "https://localhost:8080/"
        },
        "id": "WeLooldjZ7IJ",
        "outputId": "c18e622b-6d97-45b1-89cc-ef63201cecda"
      },
      "execution_count": null,
      "outputs": [
        {
          "output_type": "stream",
          "name": "stdout",
          "text": [
            "     Actual_Y  Predicted_Y\n",
            "0  591.150039   570.577576\n",
            "1  567.520023   565.894653\n",
            "2  553.289987   547.613342\n",
            "3  541.059989   536.228088\n",
            "4  539.850008   526.217102\n"
          ]
        }
      ]
    }
  ]
}